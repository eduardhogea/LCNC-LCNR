{
 "cells": [
  {
   "cell_type": "code",
   "execution_count": 1,
   "id": "65aa9325-dc61-402d-9175-41e2c54506df",
   "metadata": {},
   "outputs": [],
   "source": [
    "import logging; logging.basicConfig(level=logging.INFO)\n",
    "import tensorflow as tf\n",
    "import numpy as np\n",
    "import matplotlib.pyplot as plt\n",
    "import logictensornetworks as ltn\n",
    "import pandas as pd\n",
    "import seaborn as sns\n",
    "sns.set(font_scale=1.2)\n",
    "sns.set(rc={'figure.figsize':(11.7,8.27)})"
   ]
  },
  {
   "cell_type": "code",
   "execution_count": 2,
   "id": "f92d3c34-d97c-4095-9e82-219c5f2fc4cd",
   "metadata": {},
   "outputs": [
    {
     "name": "stdout",
     "output_type": "stream",
     "text": [
      "(36573, 11)\n"
     ]
    }
   ],
   "source": [
    "df = pd.read_csv(\"/Users/eduard.hogea/Documents/Facultate/Internship/explorare/KNN99---LTN/datesets/Cantilever/training_sectiune/tot.csv\", on_bad_lines='skip', skiprows=1)\n",
    "df = df.sample(frac=1) #shuffle\n",
    "print(df.shape)"
   ]
  },
  {
   "cell_type": "code",
   "execution_count": 3,
   "id": "efff6da7-3a50-4721-b174-4476e1b27c31",
   "metadata": {},
   "outputs": [
    {
     "name": "stdout",
     "output_type": "stream",
     "text": [
      "Null values in dataset are 0\n"
     ]
    },
    {
     "data": {
      "text/plain": [
       "(36573, 11)"
      ]
     },
     "execution_count": 3,
     "metadata": {},
     "output_type": "execute_result"
    }
   ],
   "source": [
    "df.drop_duplicates(keep= 'first', inplace=True) #eliminarea dublurilor liniilor\n",
    "df.replace([np.inf, -np.inf], np.nan, inplace=True)\n",
    "df.dropna(inplace = True)\n",
    "print('Null values in dataset are',len(df[df.isnull().any(1)]))\n",
    "df.shape"
   ]
  },
  {
   "cell_type": "code",
   "execution_count": 4,
   "id": "b05e6881-968f-42cf-8c46-07402209e9c0",
   "metadata": {},
   "outputs": [],
   "source": [
    "from sklearn.model_selection import KFold\n",
    "\n",
    "kf = KFold(n_splits = 2, shuffle = True, random_state = 2)\n",
    "listakf = list(kf.split(df))"
   ]
  },
  {
   "cell_type": "code",
   "execution_count": 5,
   "id": "c053ca28-2b13-493c-8823-0f42296787d8",
   "metadata": {},
   "outputs": [],
   "source": [
    "result = listakf[0]\n",
    "train = df.iloc[result[0]]\n",
    "test =  df.iloc[result[1]]\n",
    "results = listakf[1]\n",
    "train2 = df.iloc[results[0]]\n",
    "test2 =  df.iloc[results[1]]"
   ]
  },
  {
   "cell_type": "code",
   "execution_count": 6,
   "id": "f085c9d0-b188-4386-aa29-83e45ea1ac42",
   "metadata": {},
   "outputs": [
    {
     "data": {
      "text/plain": [
       "(18286, 11)"
      ]
     },
     "execution_count": 6,
     "metadata": {},
     "output_type": "execute_result"
    }
   ],
   "source": [
    "train.shape"
   ]
  },
  {
   "cell_type": "code",
   "execution_count": 7,
   "id": "9e47b2a3-3f27-4fa7-bfa3-c45c773727bc",
   "metadata": {},
   "outputs": [],
   "source": [
    "from sklearn.model_selection import train_test_split\n",
    "\n",
    "X_train = train[['Mod 1', 'Mod 2','Mod 3','Mod 4','Mod 5','Mod 6','Mod 7','Mod 8']].values\n",
    "y_train = train[['Severitate def', 'Severitate inc.','Pozitie']].values\n",
    "\n",
    "X_test = test[['Mod 1', 'Mod 2','Mod 3','Mod 4','Mod 5','Mod 6','Mod 7','Mod 8']].values\n",
    "y_test = test[['Severitate def', 'Severitate inc.','Pozitie']].values\n",
    "\n",
    "X_train2 = train2[['Mod 1', 'Mod 2','Mod 3','Mod 4','Mod 5','Mod 6','Mod 7','Mod 8']].values\n",
    "y_train2 = train2[['Severitate def', 'Severitate inc.','Pozitie']].values\n",
    "\n",
    "X_test2 = test2[['Mod 1', 'Mod 2','Mod 3','Mod 4','Mod 5','Mod 6','Mod 7','Mod 8']].values\n",
    "y_test2 = test2[['Severitate def', 'Severitate inc.','Pozitie']].values\n",
    "\n",
    "\n",
    "\n",
    "#x_train, x_test, y_train, y_test = train_test_split(x, y, test_size=.2)\n",
    "\n",
    "#x_comp_train, x_comp_test, y_comp_train, y_comp_test = train_test_split(x_comp, y_comp, test_size=.2)"
   ]
  },
  {
   "cell_type": "code",
   "execution_count": 8,
   "id": "c0ef2d2e-d1a2-44fa-b494-0c0adda047db",
   "metadata": {},
   "outputs": [
    {
     "name": "stdout",
     "output_type": "stream",
     "text": [
      "After reshape train date set shape:\n",
      " (18286, 8, 1)\n",
      "1 Sample shape:\n",
      " (8, 1)\n",
      "An example sample:\n",
      " [[0.00057363]\n",
      " [0.00332687]\n",
      " [0.0089679 ]\n",
      " [0.00763523]\n",
      " [0.00139095]\n",
      " [0.00194181]\n",
      " [0.00761674]\n",
      " [0.00664743]]\n"
     ]
    }
   ],
   "source": [
    "sample_size = X_train.shape[0]\n",
    "time_steps = X_train.shape[1]\n",
    "input_dimensions = 1\n",
    "\n",
    "X_train_reshaped = X_train.reshape(sample_size, time_steps, input_dimensions)\n",
    "X_test_reshaped = X_test.reshape(X_test.shape[0], X_test.shape[1], 1)\n",
    "print(\"After reshape train date set shape:\\n\", X_train_reshaped.shape)\n",
    "print(\"1 Sample shape:\\n\", X_train_reshaped[0].shape)\n",
    "print(\"An example sample:\\n\", X_train_reshaped[0])"
   ]
  },
  {
   "cell_type": "code",
   "execution_count": 9,
   "id": "7e469986-d069-4c92-9c47-033e361dfa9a",
   "metadata": {},
   "outputs": [
    {
     "name": "stdout",
     "output_type": "stream",
     "text": [
      "After reshape train date set shape:\n",
      " (18287, 8, 1)\n",
      "1 Sample shape:\n",
      " (8, 1)\n",
      "An example sample:\n",
      " [[0.0013726 ]\n",
      " [0.00593765]\n",
      " [0.0099712 ]\n",
      " [0.00285696]\n",
      " [0.00287847]\n",
      " [0.00894305]\n",
      " [0.00399464]\n",
      " [0.00186271]]\n"
     ]
    }
   ],
   "source": [
    "sample_size = X_train2.shape[0]\n",
    "time_steps = X_train2.shape[1]\n",
    "input_dimensions = 1\n",
    "\n",
    "X_train_reshaped2 = X_train2.reshape(sample_size, time_steps, input_dimensions)\n",
    "X_test_reshaped2 = X_test2.reshape(X_test2.shape[0], X_test2.shape[1], 1)\n",
    "print(\"After reshape train date set shape:\\n\", X_train_reshaped2.shape)\n",
    "print(\"1 Sample shape:\\n\", X_train_reshaped2[0].shape)\n",
    "print(\"An example sample:\\n\", X_train_reshaped2[0])"
   ]
  },
  {
   "cell_type": "code",
   "execution_count": 10,
   "id": "838bb1ac-5e3d-40f9-ada9-0056edf46985",
   "metadata": {},
   "outputs": [
    {
     "name": "stdout",
     "output_type": "stream",
     "text": [
      "Metal device set to: Apple M1\n"
     ]
    },
    {
     "name": "stderr",
     "output_type": "stream",
     "text": [
      "2022-08-26 17:35:04.280509: I tensorflow/core/common_runtime/pluggable_device/pluggable_device_factory.cc:305] Could not identify NUMA node of platform GPU ID 0, defaulting to 0. Your kernel may not have been built with NUMA support.\n",
      "2022-08-26 17:35:04.280606: I tensorflow/core/common_runtime/pluggable_device/pluggable_device_factory.cc:271] Created TensorFlow device (/job:localhost/replica:0/task:0/device:GPU:0 with 0 MB memory) -> physical PluggableDevice (device: 0, name: METAL, pci bus id: <undefined>)\n"
     ]
    }
   ],
   "source": [
    "batch_size= 2000\n",
    "ds_train = tf.data.Dataset.from_tensor_slices((X_train_reshaped,y_train)).batch(batch_size)\n",
    "ds_test = tf.data.Dataset.from_tensor_slices((X_test_reshaped,y_test)).batch(batch_size)\n",
    "\n",
    "ds_train_2 = tf.data.Dataset.from_tensor_slices((X_train_reshaped2,y_train2)).batch(batch_size)\n",
    "ds_test_2 = tf.data.Dataset.from_tensor_slices((X_test_reshaped2,y_test2)).batch(batch_size)\n",
    "\n",
    "#ds_comp_train = tf.data.Dataset.from_tensor_slices((x_comp_train,y_comp_train)).batch(batch_size)\n",
    "#ds_comp_test = tf.data.Dataset.from_tensor_slices((x_comp,y_comp)).batch(batch_size)"
   ]
  },
  {
   "cell_type": "code",
   "execution_count": 11,
   "id": "2bf0bf64-6b2e-4a9f-85b3-00dfa6ad3c3b",
   "metadata": {},
   "outputs": [
    {
     "data": {
      "text/plain": [
       "Pozitie            float64\n",
       "Severitate def     float64\n",
       "Severitate inc.    float64\n",
       "Mod 1              float64\n",
       "Mod 2              float64\n",
       "Mod 3              float64\n",
       "Mod 4              float64\n",
       "Mod 5              float64\n",
       "Mod 6              float64\n",
       "Mod 7              float64\n",
       "Mod 8              float64\n",
       "dtype: object"
      ]
     },
     "execution_count": 11,
     "metadata": {},
     "output_type": "execute_result"
    }
   ],
   "source": [
    "#df['Freq 1    f1 [Hz]'] = df['Freq 1    f1 [Hz]'].astype(float, errors = 'raise')\n",
    "df.dtypes"
   ]
  },
  {
   "cell_type": "code",
   "execution_count": 12,
   "id": "d9a68331-310f-490d-875d-d29659ef79a2",
   "metadata": {},
   "outputs": [
    {
     "name": "stdout",
     "output_type": "stream",
     "text": [
      "Model: \"model_conv1D\"\n",
      "_________________________________________________________________\n",
      " Layer (type)                Output Shape              Param #   \n",
      "=================================================================\n",
      " Conv1D_1 (Conv1D)           (None, 5, 64)             320       \n",
      "                                                                 \n",
      " dropout (Dropout)           (None, 5, 64)             0         \n",
      "                                                                 \n",
      " Conv1D_2 (Conv1D)           (None, 3, 32)             6176      \n",
      "                                                                 \n",
      " Conv1D_3 (Conv1D)           (None, 2, 16)             1040      \n",
      "                                                                 \n",
      " MaxPooling1D (MaxPooling1D)  (None, 1, 16)            0         \n",
      "                                                                 \n",
      " flatten (Flatten)           (None, 16)                0         \n",
      "                                                                 \n",
      " Dense_1 (Dense)             (None, 8)                 136       \n",
      "                                                                 \n",
      " Dense_2 (Dense)             (None, 3)                 27        \n",
      "                                                                 \n",
      "=================================================================\n",
      "Total params: 7,699\n",
      "Trainable params: 7,699\n",
      "Non-trainable params: 0\n",
      "_________________________________________________________________\n"
     ]
    }
   ],
   "source": [
    "import keras\n",
    "def build_conv1D_model():\n",
    "\n",
    "    n_timesteps = X_train_reshaped.shape[1] #13\n",
    "    n_features  = X_train_reshaped.shape[2] #1 \n",
    "    model = keras.Sequential(name=\"model_conv1D\")\n",
    "    model.add(keras.layers.Input(shape=(n_timesteps,n_features)))\n",
    "    model.add(keras.layers.Conv1D(filters=64, kernel_size=4, activation='relu', name=\"Conv1D_1\"))\n",
    "    model.add(keras.layers.Dropout(0.5))\n",
    "    model.add(keras.layers.Conv1D(filters=32, kernel_size=3, activation='relu', name=\"Conv1D_2\"))\n",
    "  \n",
    "    model.add(keras.layers.Conv1D(filters=16, kernel_size=2, activation='relu', name=\"Conv1D_3\"))\n",
    "  \n",
    "    model.add(keras.layers.MaxPooling1D(pool_size=2, name=\"MaxPooling1D\"))\n",
    "    model.add(keras.layers.Flatten())\n",
    "    model.add(keras.layers.Dense(8, activation='relu', name=\"Dense_1\"))\n",
    "    model.add(keras.layers.Dense(3, name=\"Dense_2\"))\n",
    "\n",
    "    return model\n",
    "\n",
    "# logits_model = build_conv1D_model()\n",
    "# f = ltn.Predicate(ltn.utils.LogitsToPredicateModel(logits_model,single_label=True))\n",
    "# logits_model.summary()\n",
    "model_conv = build_conv1D_model()\n",
    "model_conv.summary()\n",
    "f = ltn.Function(model_conv)"
   ]
  },
  {
   "cell_type": "code",
   "execution_count": 13,
   "id": "bf67f783-a79b-4f18-b98d-fae3af503e73",
   "metadata": {},
   "outputs": [],
   "source": [
    "#p = float('inf')\n",
    "p = 1\n",
    "eq = ltn.Predicate.Lambda(\n",
    "    #lambda args: tf.exp(-0.05*tf.sqrt(tf.reduce_sum(tf.square(args[0]-args[1]),axis=1)))        \n",
    "    lambda args: 1/(1+0.5*tf.pow(tf.reduce_sum(tf.pow(abs(args[0]-args[1]),p),axis=1),1/p))\n",
    ")"
   ]
  },
  {
   "cell_type": "code",
   "execution_count": 14,
   "id": "2eb0af52-f081-4d41-908b-1d8bbbf7a4c3",
   "metadata": {},
   "outputs": [],
   "source": [
    "Not = ltn.Wrapper_Connective(ltn.fuzzy_ops.Not_Std())\n",
    "And = ltn.Wrapper_Connective(ltn.fuzzy_ops.And_Prod())\n",
    "Or = ltn.Wrapper_Connective(ltn.fuzzy_ops.Or_ProbSum())\n",
    "Implies = ltn.Wrapper_Connective(ltn.fuzzy_ops.Implies_Reichenbach())\n",
    "Forall = ltn.Wrapper_Quantifier(ltn.fuzzy_ops.Aggreg_pMeanError(p=2),semantics=\"forall\")\n",
    "Exists = ltn.Wrapper_Quantifier(ltn.fuzzy_ops.Aggreg_pMean(p=2),semantics=\"exists\")"
   ]
  },
  {
   "cell_type": "code",
   "execution_count": 15,
   "id": "07a3d6d6-a072-41fc-9af0-dbb84ceab774",
   "metadata": {},
   "outputs": [],
   "source": [
    "@tf.function\n",
    "def axioms(x_data, y_data):\n",
    "    x = ltn.Variable(\"x\", x_data)\n",
    "    y = ltn.Variable(\"y\", y_data)\n",
    "    return Forall(ltn.diag(x,y), eq([f(x),y])).tensor"
   ]
  },
  {
   "cell_type": "code",
   "execution_count": 16,
   "id": "c6732d31-0b31-49c4-ad80-ec80fb0e8524",
   "metadata": {},
   "outputs": [
    {
     "name": "stdout",
     "output_type": "stream",
     "text": [
      "Initial sat level 0.78477\n"
     ]
    },
    {
     "name": "stderr",
     "output_type": "stream",
     "text": [
      "2022-08-26 17:35:05.027647: W tensorflow/core/platform/profile_utils/cpu_utils.cc:128] Failed to get CPU frequency: 0 Hz\n",
      "2022-08-26 17:35:05.027704: I tensorflow/core/grappler/optimizers/custom_graph_optimizer_registry.cc:112] Plugin optimizer for device_type GPU is enabled.\n"
     ]
    }
   ],
   "source": [
    "for x, y in ds_test:\n",
    "    print(\"Initial sat level %.5f\"%axioms(x,y))\n",
    "    break"
   ]
  },
  {
   "cell_type": "code",
   "execution_count": 17,
   "id": "b23fd2dc-c1c1-49d5-8332-807578663f8d",
   "metadata": {},
   "outputs": [],
   "source": [
    "metrics_dict = {\n",
    "    'train_sat': tf.keras.metrics.Mean(name='train_sat'),\n",
    "    'test_sat': tf.keras.metrics.Mean(name='test_sat'),\n",
    "    'train_accuracy': tf.keras.metrics.RootMeanSquaredError(name=\"train_accuracy\"),\n",
    "    'test_accuracy': tf.keras.metrics.RootMeanSquaredError(name=\"test_accuracy\")\n",
    "}"
   ]
  },
  {
   "cell_type": "code",
   "execution_count": 18,
   "id": "49ca2f66-ad7b-4110-8e5b-9ed73680f610",
   "metadata": {},
   "outputs": [],
   "source": [
    "optimizer = tf.keras.optimizers.RMSprop(learning_rate=0.001)\n",
    "@tf.function\n",
    "def train_step(x, y):\n",
    "    # sat and update\n",
    "    with tf.GradientTape() as tape:\n",
    "        sat = axioms(x, y)\n",
    "        loss = 1.-sat\n",
    "    gradients = tape.gradient(loss, f.trainable_variables)\n",
    "    optimizer.apply_gradients(zip(gradients, f.trainable_variables))\n",
    "    sat = axioms(x, y)\n",
    "    metrics_dict['train_sat'](sat)\n",
    "    # accuracy\n",
    "    metrics_dict['train_accuracy'](y,f.model(x))\n",
    "    \n",
    "@tf.function\n",
    "def test_step(x, y):\n",
    "    # sat\n",
    "    sat = axioms(x, y)\n",
    "    metrics_dict['test_sat'](sat)\n",
    "    # accuracy\n",
    "    metrics_dict['test_accuracy'](y,f.model(x))"
   ]
  },
  {
   "cell_type": "code",
   "execution_count": 19,
   "id": "4f4b8cf5-4626-4c6d-93f4-5480de07b8a9",
   "metadata": {},
   "outputs": [],
   "source": [
    "from collections import defaultdict\n",
    "\n",
    "def train(\n",
    "        epochs,\n",
    "        metrics_dict, \n",
    "        ds_train, \n",
    "        ds_test, \n",
    "        train_step, \n",
    "        test_step,\n",
    "        track_metrics=1,\n",
    "        csv_path=None,\n",
    "        scheduled_parameters=defaultdict(lambda : {})\n",
    "    ):\n",
    "    \"\"\"\n",
    "    Args:\n",
    "        epochs: int, number of training epochs.\n",
    "        metrics_dict: dict, {\"metrics_label\": tf.keras.metrics instance}.\n",
    "        ds_train: iterable dataset, e.g. using tf.data.Dataset.\n",
    "        ds_test: iterable dataset, e.g. using tf.data.Dataset.\n",
    "        train_step: callable function. the arguments passed to the function\n",
    "            are the itered elements of ds_train.\n",
    "        test_step: callable function. the arguments passed to the function\n",
    "            are the itered elements of ds_test.\n",
    "        csv_path: (optional) path to create a csv file, to save the metrics.\n",
    "        scheduled_parameters: (optional) a dictionary that returns kwargs for\n",
    "            the train_step and test_step functions, for each epoch.\n",
    "            Call using scheduled_parameters[epoch].\n",
    "    \"\"\"\n",
    "    template = \"Epoch {}\"\n",
    "    for metrics_label in metrics_dict.keys():\n",
    "        template += \", %s: {:.4f}\" % metrics_label\n",
    "    if csv_path is not None:\n",
    "        csv_file = open(csv_path,\"w+\")\n",
    "        headers = \",\".join([\"Epoch\"]+list(metrics_dict.keys()))\n",
    "        csv_template = \",\".join([\"{}\" for _ in range(len(metrics_dict)+1)])\n",
    "        csv_file.write(headers+\"\\n\")\n",
    "    \n",
    "    for epoch in range(epochs):\n",
    "        for metrics in metrics_dict.values():\n",
    "            metrics.reset_states()\n",
    "\n",
    "        for batch_elements in ds_train:\n",
    "            train_step(*batch_elements,**scheduled_parameters[epoch])\n",
    "        for batch_elements in ds_test:\n",
    "            test_step(*batch_elements,**scheduled_parameters[epoch])\n",
    "\n",
    "        metrics_results = [metrics.result() for metrics in metrics_dict.values()]\n",
    "        if epoch%track_metrics == 0:\n",
    "            print(template.format(epoch,*metrics_results))\n",
    "        if csv_path is not None:\n",
    "            csv_file.write(csv_template.format(epoch,*metrics_results)+\"\\n\")\n",
    "            csv_file.flush()\n",
    "    if csv_path is not None:\n",
    "        csv_file.close()"
   ]
  },
  {
   "cell_type": "code",
   "execution_count": 20,
   "id": "59dc367f-c0b5-4e5e-99cd-47fdf8d0a41c",
   "metadata": {},
   "outputs": [
    {
     "name": "stderr",
     "output_type": "stream",
     "text": [
      "2022-08-26 17:35:05.378674: I tensorflow/core/grappler/optimizers/custom_graph_optimizer_registry.cc:112] Plugin optimizer for device_type GPU is enabled.\n",
      "2022-08-26 17:35:07.250150: I tensorflow/core/grappler/optimizers/custom_graph_optimizer_registry.cc:112] Plugin optimizer for device_type GPU is enabled.\n",
      "2022-08-26 17:35:07.694167: I tensorflow/core/grappler/optimizers/custom_graph_optimizer_registry.cc:112] Plugin optimizer for device_type GPU is enabled.\n",
      "2022-08-26 17:35:07.850756: I tensorflow/core/grappler/optimizers/custom_graph_optimizer_registry.cc:112] Plugin optimizer for device_type GPU is enabled.\n"
     ]
    },
    {
     "name": "stdout",
     "output_type": "stream",
     "text": [
      "Epoch 0, train_sat: 0.8240, test_sat: 0.8566, train_accuracy: 0.2618, test_accuracy: 0.1845\n",
      "Epoch 200, train_sat: 0.9410, test_sat: 0.9426, train_accuracy: 0.0750, test_accuracy: 0.0727\n",
      "Epoch 400, train_sat: 0.9589, test_sat: 0.9599, train_accuracy: 0.0502, test_accuracy: 0.0489\n",
      "Epoch 600, train_sat: 0.9680, test_sat: 0.9648, train_accuracy: 0.0384, test_accuracy: 0.0424\n",
      "Epoch 800, train_sat: 0.9708, test_sat: 0.9658, train_accuracy: 0.0344, test_accuracy: 0.0396\n",
      "Epoch 1000, train_sat: 0.9749, test_sat: 0.9691, train_accuracy: 0.0295, test_accuracy: 0.0342\n",
      "Epoch 1200, train_sat: 0.9771, test_sat: 0.9717, train_accuracy: 0.0271, test_accuracy: 0.0357\n",
      "Epoch 1400, train_sat: 0.9802, test_sat: 0.9783, train_accuracy: 0.0237, test_accuracy: 0.0246\n",
      "Epoch 1600, train_sat: 0.9825, test_sat: 0.9798, train_accuracy: 0.0208, test_accuracy: 0.0240\n",
      "Epoch 1800, train_sat: 0.9841, test_sat: 0.9823, train_accuracy: 0.0183, test_accuracy: 0.0197\n",
      "Epoch 2000, train_sat: 0.9847, test_sat: 0.9831, train_accuracy: 0.0179, test_accuracy: 0.0193\n",
      "Epoch 2200, train_sat: 0.9860, test_sat: 0.9835, train_accuracy: 0.0170, test_accuracy: 0.0194\n",
      "Epoch 2400, train_sat: 0.9861, test_sat: 0.9854, train_accuracy: 0.0161, test_accuracy: 0.0157\n",
      "Epoch 2600, train_sat: 0.9861, test_sat: 0.9862, train_accuracy: 0.0163, test_accuracy: 0.0153\n",
      "Epoch 2800, train_sat: 0.9870, test_sat: 0.9863, train_accuracy: 0.0151, test_accuracy: 0.0149\n",
      "Epoch 3000, train_sat: 0.9875, test_sat: 0.9896, train_accuracy: 0.0162, test_accuracy: 0.0126\n",
      "Epoch 3200, train_sat: 0.9883, test_sat: 0.9871, train_accuracy: 0.0141, test_accuracy: 0.0143\n",
      "Epoch 3400, train_sat: 0.9881, test_sat: 0.9859, train_accuracy: 0.0144, test_accuracy: 0.0153\n",
      "Epoch 3600, train_sat: 0.9881, test_sat: 0.9883, train_accuracy: 0.0139, test_accuracy: 0.0131\n",
      "Epoch 3800, train_sat: 0.9879, test_sat: 0.9879, train_accuracy: 0.0152, test_accuracy: 0.0138\n",
      "Epoch 4000, train_sat: 0.9883, test_sat: 0.9882, train_accuracy: 0.0142, test_accuracy: 0.0127\n",
      "Epoch 4200, train_sat: 0.9889, test_sat: 0.9871, train_accuracy: 0.0135, test_accuracy: 0.0135\n",
      "Epoch 4400, train_sat: 0.9889, test_sat: 0.9870, train_accuracy: 0.0137, test_accuracy: 0.0137\n",
      "Epoch 4600, train_sat: 0.9888, test_sat: 0.9869, train_accuracy: 0.0136, test_accuracy: 0.0142\n",
      "Epoch 4800, train_sat: 0.9894, test_sat: 0.9885, train_accuracy: 0.0129, test_accuracy: 0.0130\n"
     ]
    }
   ],
   "source": [
    "EPOCHS = 5000\n",
    "\n",
    "modelul = train(\n",
    "    EPOCHS,\n",
    "    metrics_dict,\n",
    "    ds_train,\n",
    "    ds_test,\n",
    "    train_step,\n",
    "    test_step,\n",
    "    csv_path=\"regression_results_kfold2_1_mk.csv\",\n",
    "    track_metrics=200\n",
    ")"
   ]
  },
  {
   "cell_type": "code",
   "execution_count": 21,
   "id": "262bdd23-9286-446d-9242-18371a846427",
   "metadata": {},
   "outputs": [
    {
     "name": "stderr",
     "output_type": "stream",
     "text": [
      "/Users/eduard.hogea/miniforge3/envs/tensorflow/lib/python3.9/site-packages/seaborn/_decorators.py:36: FutureWarning: Pass the following variables as keyword args: x, y. From version 0.12, the only valid positional argument will be `data`, and passing other arguments without an explicit keyword will result in an error or misinterpretation.\n",
      "  warnings.warn(\n",
      "/Users/eduard.hogea/miniforge3/envs/tensorflow/lib/python3.9/site-packages/seaborn/_decorators.py:36: FutureWarning: Pass the following variables as keyword args: x, y. From version 0.12, the only valid positional argument will be `data`, and passing other arguments without an explicit keyword will result in an error or misinterpretation.\n",
      "  warnings.warn(\n"
     ]
    },
    {
     "data": {
      "image/png": "[encoded data removed]",
      "text/plain": [
       "<Figure size 864x432 with 2 Axes>"
      ]
     },
     "metadata": {},
     "output_type": "display_data"
    }
   ],
   "source": [
    "fig, axs = plt.subplots(1,2,figsize=(12,6))\n",
    "ax = axs[0]\n",
    "data = {'y_pred':[],'y_true':[]}\n",
    "for x,y in ds_train:\n",
    "    data['y_pred'].extend(f.model(x)[:,2].numpy())\n",
    "    data['y_true'].extend(y[:,2].numpy())\n",
    "df = pd.DataFrame(data,columns=['y_pred','y_true'])\n",
    "ax.set_xlim(0,80)\n",
    "ax.set_ylim(0,80)\n",
    "sns.regplot(\"y_true\",\"y_pred\",data=df,ax=ax,truncate=False,\n",
    "            scatter_kws={'alpha':0.5},line_kws={'color':'r','alpha':0.3,'linestyle':'--','linewidth':2})\n",
    "ax.plot([0,100],[0,100],color=\"gray\",linestyle=\"--\")\n",
    "ax.set_xlabel(\"Actual y values\")\n",
    "ax.set_ylabel(\"Fitted y values\")\n",
    "ax.set_title(\"Training Data\")\n",
    "\n",
    "ax = axs[1]\n",
    "data = {'y_pred':[],'y_true':[]}\n",
    "for x,y in ds_test:\n",
    "    data['y_pred'].extend(f.model(x)[:,2].numpy())\n",
    "    data['y_true'].extend(y[:,2].numpy())\n",
    "df = pd.DataFrame(data,columns=['y_pred','y_true'])\n",
    "ax.set_ylim(0,80)\n",
    "ax.set_xlim(0,80)\n",
    "sns.regplot(\"y_true\",\"y_pred\",data=df,ax=ax,truncate=False,\n",
    "            scatter_kws={'alpha':0.5},line_kws={'color':'r','alpha':0.3,'linestyle':'--','linewidth':2})\n",
    "ax.plot([0,100],[0,100],color=\"gray\",linestyle=\"--\")\n",
    "ax.set_xlabel(\"Actual y values\")\n",
    "ax.set_ylabel(\"Fitted y values\")\n",
    "ax.set_title(\"Test Data\")\n",
    "plt.tight_layout()\n",
    "plt.savefig(\"LTN_regresie_kfold2_1_mk.png\")"
   ]
  },
  {
   "cell_type": "code",
   "execution_count": null,
   "id": "939039b5-35a1-45a5-a68e-8ceb3a1f1b70",
   "metadata": {},
   "outputs": [],
   "source": []
  },
  {
   "cell_type": "code",
   "execution_count": 22,
   "id": "0c979284-c9f0-4e04-bb9b-41e2512b8adf",
   "metadata": {},
   "outputs": [
    {
     "data": {
      "image/png": "[encoded data removed]",
      "text/plain": [
       "<Figure size 720x720 with 1 Axes>"
      ]
     },
     "metadata": {},
     "output_type": "display_data"
    }
   ],
   "source": [
    "plt.figure(figsize=(10,10))\n",
    "plt.scatter(df['y_true'], df['y_pred'], c='crimson')\n",
    "plt.yscale('log')\n",
    "plt.xscale('log')\n",
    "\n",
    "p1 = max(max(df['y_pred']), max(df['y_true']))\n",
    "p2 = min(min(df['y_pred']), min(df['y_true']))\n",
    "plt.plot([p1, p2], [p1, p2], 'b-')\n",
    "plt.xlabel('True Values', fontsize=15)\n",
    "plt.ylabel('Predictions', fontsize=15)\n",
    "plt.axis('equal')\n",
    "plt.savefig(\"LTN_regresie_2_mk.png\")\n",
    "plt.show()"
   ]
  },
  {
   "cell_type": "code",
   "execution_count": 23,
   "id": "9d52a0c2-fc9c-4ff2-8d23-4dd98edea9c0",
   "metadata": {},
   "outputs": [],
   "source": [
    "df = pd.read_csv(\"/Users/eduard.hogea/Documents/Facultate/Internship/explorare/KNN99---LTN/datesets/Cantilever/date_test_corectate.csv\", on_bad_lines='skip')\n",
    "df = df.sample(frac=1) #shuffle\n",
    "x = df[['Mod 1', 'Mod 2','Mod 3','Mod 4','Mod 5','Mod 6','Mod 7','Mod 8']]\n",
    "y = df[['Severitate def', 'Severitate inc.','Pozitie']]\n",
    "batch_size= 32\n",
    "ds_test = tf.data.Dataset.from_tensor_slices((x,y)).batch(batch_size)\n",
    "\n",
    "data = {'y_pred':[],'y_true':[],'def':[],'inc':[],'Mod 1':[],'Mod 2':[],'Mod 3':[],'Mod 4':[],'Mod 5':[],'Mod 6':[],'Mod 7':[],'Mod 8':[]}\n",
    "for x,y in ds_test:\n",
    "    data['y_pred'].extend(f.model(x)[:,2].numpy())\n",
    "    data['y_true'].extend(y[:,2].numpy())\n",
    "    data['def'].extend(y[:,0].numpy())\n",
    "    data['inc'].extend(y[:,1].numpy())\n",
    "    data['Mod 1'].extend(x[:,0].numpy())\n",
    "    data['Mod 2'].extend(x[:,1].numpy())\n",
    "    data['Mod 3'].extend(x[:,2].numpy())\n",
    "    data['Mod 4'].extend(x[:,3].numpy())\n",
    "    data['Mod 5'].extend(x[:,4].numpy())\n",
    "    data['Mod 6'].extend(x[:,5].numpy())\n",
    "    data['Mod 7'].extend(x[:,6].numpy())\n",
    "    data['Mod 8'].extend(x[:,7].numpy())\n",
    "#'Severitate def', 'Severitate inc.'"
   ]
  },
  {
   "cell_type": "code",
   "execution_count": 24,
   "id": "49fda59b-5c16-4a42-8c63-b45b548e36a3",
   "metadata": {},
   "outputs": [],
   "source": [
    "data_plot = pd.DataFrame(data,columns=['y_pred','y_true','def','inc','Mod 1', 'Mod 2','Mod 3','Mod 4','Mod 5','Mod 6','Mod 7','Mod 8'])\n",
    "dif =data_plot[\"y_true\"] - data_plot[\"y_pred\"]"
   ]
  },
  {
   "cell_type": "code",
   "execution_count": 25,
   "id": "9cdc50c8-6707-4ae0-883b-1ddffc99a628",
   "metadata": {},
   "outputs": [
    {
     "data": {
      "image/png": "[encoded data removed]",
      "text/plain": [
       "<Figure size 842.4x595.44 with 1 Axes>"
      ]
     },
     "metadata": {},
     "output_type": "display_data"
    }
   ],
   "source": [
    "plt.stem(dif)\n",
    "plt.xlabel(\"Predicted values\", size = \"20\")\n",
    "plt.ylabel(\"Residuals\", size = \"20\")\n",
    "plt.savefig(\"residuals_kfold2_1_mk.png\")"
   ]
  },
  {
   "cell_type": "code",
   "execution_count": 26,
   "id": "e51ddfab-7dc3-45eb-84e3-c6af61a7c9a6",
   "metadata": {},
   "outputs": [
    {
     "name": "stdout",
     "output_type": "stream",
     "text": [
      "Requirement already satisfied: openpyxl in /Users/eduard.hogea/miniforge3/envs/tensorflow/lib/python3.9/site-packages (3.0.10)\n",
      "Requirement already satisfied: et-xmlfile in /Users/eduard.hogea/miniforge3/envs/tensorflow/lib/python3.9/site-packages (from openpyxl) (1.1.0)\n"
     ]
    }
   ],
   "source": [
    "from openpyxl import Workbook\n",
    "!pip install openpyxl\n",
    "data_plot.to_excel(\"output_kfold2_1_mk.xlsx\")"
   ]
  },
  {
   "cell_type": "markdown",
   "id": "018c7d79-3210-4f0c-9583-de61f6ce9c98",
   "metadata": {},
   "source": [
    "# Fold 2"
   ]
  },
  {
   "cell_type": "code",
   "execution_count": 27,
   "id": "58a27463-117b-49e2-86b4-5c8912550eec",
   "metadata": {},
   "outputs": [
    {
     "name": "stdout",
     "output_type": "stream",
     "text": [
      "Model: \"model_conv1D\"\n",
      "_________________________________________________________________\n",
      " Layer (type)                Output Shape              Param #   \n",
      "=================================================================\n",
      " Conv1D_1 (Conv1D)           (None, 5, 64)             320       \n",
      "                                                                 \n",
      " dropout_1 (Dropout)         (None, 5, 64)             0         \n",
      "                                                                 \n",
      " Conv1D_2 (Conv1D)           (None, 3, 32)             6176      \n",
      "                                                                 \n",
      " Conv1D_3 (Conv1D)           (None, 2, 16)             1040      \n",
      "                                                                 \n",
      " MaxPooling1D (MaxPooling1D)  (None, 1, 16)            0         \n",
      "                                                                 \n",
      " flatten_1 (Flatten)         (None, 16)                0         \n",
      "                                                                 \n",
      " Dense_1 (Dense)             (None, 8)                 136       \n",
      "                                                                 \n",
      " Dense_2 (Dense)             (None, 3)                 27        \n",
      "                                                                 \n",
      "=================================================================\n",
      "Total params: 7,699\n",
      "Trainable params: 7,699\n",
      "Non-trainable params: 0\n",
      "_________________________________________________________________\n"
     ]
    }
   ],
   "source": [
    "import keras\n",
    "def build_conv1D_model():\n",
    "\n",
    "    n_timesteps = X_train_reshaped.shape[1] #13\n",
    "    n_features  = X_train_reshaped.shape[2] #1 \n",
    "    model = keras.Sequential(name=\"model_conv1D\")\n",
    "    model.add(keras.layers.Input(shape=(n_timesteps,n_features)))\n",
    "    model.add(keras.layers.Conv1D(filters=64, kernel_size=4, activation='relu', name=\"Conv1D_1\"))\n",
    "    model.add(keras.layers.Dropout(0.5))\n",
    "    model.add(keras.layers.Conv1D(filters=32, kernel_size=3, activation='relu', name=\"Conv1D_2\"))\n",
    "  \n",
    "    model.add(keras.layers.Conv1D(filters=16, kernel_size=2, activation='relu', name=\"Conv1D_3\"))\n",
    "  \n",
    "    model.add(keras.layers.MaxPooling1D(pool_size=2, name=\"MaxPooling1D\"))\n",
    "    model.add(keras.layers.Flatten())\n",
    "    model.add(keras.layers.Dense(8, activation='relu', name=\"Dense_1\"))\n",
    "    model.add(keras.layers.Dense(3, name=\"Dense_2\"))\n",
    "\n",
    "    return model\n",
    "\n",
    "# logits_model = build_conv1D_model()\n",
    "# f = ltn.Predicate(ltn.utils.LogitsToPredicateModel(logits_model,single_label=True))\n",
    "# logits_model.summary()\n",
    "model_conv = build_conv1D_model()\n",
    "model_conv.summary()\n",
    "f = ltn.Function(model_conv)"
   ]
  },
  {
   "cell_type": "code",
   "execution_count": 28,
   "id": "e4f14379-6f38-428d-a6a0-7af35d210cf9",
   "metadata": {},
   "outputs": [],
   "source": [
    "#p = float('inf')\n",
    "p = 1\n",
    "eq = ltn.Predicate.Lambda(\n",
    "    #lambda args: tf.exp(-0.05*tf.sqrt(tf.reduce_sum(tf.square(args[0]-args[1]),axis=1)))        \n",
    "    lambda args: 1/(1+0.5*tf.pow(tf.reduce_sum(tf.pow(abs(args[0]-args[1]),p),axis=1),1/p))\n",
    ")"
   ]
  },
  {
   "cell_type": "code",
   "execution_count": 29,
   "id": "44f63a22-e24a-44fe-afb7-baaf07dcade9",
   "metadata": {},
   "outputs": [],
   "source": [
    "Not = ltn.Wrapper_Connective(ltn.fuzzy_ops.Not_Std())\n",
    "And = ltn.Wrapper_Connective(ltn.fuzzy_ops.And_Prod())\n",
    "Or = ltn.Wrapper_Connective(ltn.fuzzy_ops.Or_ProbSum())\n",
    "Implies = ltn.Wrapper_Connective(ltn.fuzzy_ops.Implies_Reichenbach())\n",
    "Forall = ltn.Wrapper_Quantifier(ltn.fuzzy_ops.Aggreg_pMeanError(p=2),semantics=\"forall\")\n",
    "Exists = ltn.Wrapper_Quantifier(ltn.fuzzy_ops.Aggreg_pMean(p=2),semantics=\"exists\")"
   ]
  },
  {
   "cell_type": "code",
   "execution_count": 30,
   "id": "d188a946-7aaa-4281-9000-e1624c6c0ec1",
   "metadata": {},
   "outputs": [],
   "source": [
    "@tf.function\n",
    "def axioms(x_data, y_data):\n",
    "    x = ltn.Variable(\"x\", x_data)\n",
    "    y = ltn.Variable(\"y\", y_data)\n",
    "    return Forall(ltn.diag(x,y), eq([f(x),y])).tensor"
   ]
  },
  {
   "cell_type": "code",
   "execution_count": 31,
   "id": "caedb7d3-0f3a-4da1-b50c-505932744ff2",
   "metadata": {},
   "outputs": [
    {
     "name": "stdout",
     "output_type": "stream",
     "text": [
      "Initial sat level 0.78292\n"
     ]
    },
    {
     "name": "stderr",
     "output_type": "stream",
     "text": [
      "2022-08-26 17:49:51.341587: I tensorflow/core/grappler/optimizers/custom_graph_optimizer_registry.cc:112] Plugin optimizer for device_type GPU is enabled.\n"
     ]
    }
   ],
   "source": [
    "for x, y in ds_test_2:\n",
    "    print(\"Initial sat level %.5f\"%axioms(x,y))\n",
    "    break"
   ]
  },
  {
   "cell_type": "code",
   "execution_count": 32,
   "id": "8d480795-bfcd-46f3-9295-08ca9a29cb15",
   "metadata": {},
   "outputs": [],
   "source": [
    "metrics_dict = {\n",
    "    'train_sat': tf.keras.metrics.Mean(name='train_sat'),\n",
    "    'test_sat': tf.keras.metrics.Mean(name='test_sat'),\n",
    "    'train_accuracy': tf.keras.metrics.RootMeanSquaredError(name=\"train_accuracy\"),\n",
    "    'test_accuracy': tf.keras.metrics.RootMeanSquaredError(name=\"test_accuracy\")\n",
    "}"
   ]
  },
  {
   "cell_type": "code",
   "execution_count": 33,
   "id": "b7dc723c-b5da-4e11-99b6-2308c84fbaf6",
   "metadata": {},
   "outputs": [],
   "source": [
    "optimizer = tf.keras.optimizers.RMSprop(learning_rate=0.001)\n",
    "@tf.function\n",
    "def train_step(x, y):\n",
    "    # sat and update\n",
    "    with tf.GradientTape() as tape:\n",
    "        sat = axioms(x, y)\n",
    "        loss = 1.-sat\n",
    "    gradients = tape.gradient(loss, f.trainable_variables)\n",
    "    optimizer.apply_gradients(zip(gradients, f.trainable_variables))\n",
    "    sat = axioms(x, y)\n",
    "    metrics_dict['train_sat'](sat)\n",
    "    # accuracy\n",
    "    metrics_dict['train_accuracy'](y,f.model(x))\n",
    "    \n",
    "@tf.function\n",
    "def test_step(x, y):\n",
    "    # sat\n",
    "    sat = axioms(x, y)\n",
    "    metrics_dict['test_sat'](sat)\n",
    "    # accuracy\n",
    "    metrics_dict['test_accuracy'](y,f.model(x))"
   ]
  },
  {
   "cell_type": "code",
   "execution_count": 34,
   "id": "5a285c18-c088-47ec-8b36-7569c78b1b7d",
   "metadata": {},
   "outputs": [],
   "source": [
    "from collections import defaultdict\n",
    "\n",
    "def train(\n",
    "        epochs,\n",
    "        metrics_dict, \n",
    "        ds_train_2, \n",
    "        ds_test_2, \n",
    "        train_step, \n",
    "        test_step,\n",
    "        track_metrics=1,\n",
    "        csv_path=None,\n",
    "        scheduled_parameters=defaultdict(lambda : {})\n",
    "    ):\n",
    "    \"\"\"\n",
    "    Args:\n",
    "        epochs: int, number of training epochs.\n",
    "        metrics_dict: dict, {\"metrics_label\": tf.keras.metrics instance}.\n",
    "        ds_train: iterable dataset, e.g. using tf.data.Dataset.\n",
    "        ds_test: iterable dataset, e.g. using tf.data.Dataset.\n",
    "        train_step: callable function. the arguments passed to the function\n",
    "            are the itered elements of ds_train.\n",
    "        test_step: callable function. the arguments passed to the function\n",
    "            are the itered elements of ds_test.\n",
    "        csv_path: (optional) path to create a csv file, to save the metrics.\n",
    "        scheduled_parameters: (optional) a dictionary that returns kwargs for\n",
    "            the train_step and test_step functions, for each epoch.\n",
    "            Call using scheduled_parameters[epoch].\n",
    "    \"\"\"\n",
    "    template = \"Epoch {}\"\n",
    "    for metrics_label in metrics_dict.keys():\n",
    "        template += \", %s: {:.4f}\" % metrics_label\n",
    "    if csv_path is not None:\n",
    "        csv_file = open(csv_path,\"w+\")\n",
    "        headers = \",\".join([\"Epoch\"]+list(metrics_dict.keys()))\n",
    "        csv_template = \",\".join([\"{}\" for _ in range(len(metrics_dict)+1)])\n",
    "        csv_file.write(headers+\"\\n\")\n",
    "    \n",
    "    for epoch in range(epochs):\n",
    "        for metrics in metrics_dict.values():\n",
    "            metrics.reset_states()\n",
    "\n",
    "        for batch_elements in ds_train_2:\n",
    "            train_step(*batch_elements,**scheduled_parameters[epoch])\n",
    "        for batch_elements in ds_test_2:\n",
    "            test_step(*batch_elements,**scheduled_parameters[epoch])\n",
    "\n",
    "        metrics_results = [metrics.result() for metrics in metrics_dict.values()]\n",
    "        if epoch%track_metrics == 0:\n",
    "            print(template.format(epoch,*metrics_results))\n",
    "        if csv_path is not None:\n",
    "            csv_file.write(csv_template.format(epoch,*metrics_results)+\"\\n\")\n",
    "            csv_file.flush()\n",
    "    if csv_path is not None:\n",
    "        csv_file.close()"
   ]
  },
  {
   "cell_type": "code",
   "execution_count": 35,
   "id": "7bb689be-c835-4937-b8ed-6af2e72f4801",
   "metadata": {},
   "outputs": [
    {
     "name": "stderr",
     "output_type": "stream",
     "text": [
      "2022-08-26 17:49:51.812820: I tensorflow/core/grappler/optimizers/custom_graph_optimizer_registry.cc:112] Plugin optimizer for device_type GPU is enabled.\n",
      "2022-08-26 17:49:52.322202: I tensorflow/core/grappler/optimizers/custom_graph_optimizer_registry.cc:112] Plugin optimizer for device_type GPU is enabled.\n",
      "2022-08-26 17:49:52.658974: I tensorflow/core/grappler/optimizers/custom_graph_optimizer_registry.cc:112] Plugin optimizer for device_type GPU is enabled.\n",
      "2022-08-26 17:49:52.813972: I tensorflow/core/grappler/optimizers/custom_graph_optimizer_registry.cc:112] Plugin optimizer for device_type GPU is enabled.\n"
     ]
    },
    {
     "name": "stdout",
     "output_type": "stream",
     "text": [
      "Epoch 0, train_sat: 0.8277, test_sat: 0.8545, train_accuracy: 0.2571, test_accuracy: 0.1879\n",
      "Epoch 200, train_sat: 0.9335, test_sat: 0.9256, train_accuracy: 0.0852, test_accuracy: 0.0983\n",
      "Epoch 400, train_sat: 0.9601, test_sat: 0.9542, train_accuracy: 0.0485, test_accuracy: 0.0580\n",
      "Epoch 600, train_sat: 0.9756, test_sat: 0.9757, train_accuracy: 0.0282, test_accuracy: 0.0281\n",
      "Epoch 800, train_sat: 0.9794, test_sat: 0.9774, train_accuracy: 0.0233, test_accuracy: 0.0271\n",
      "Epoch 1000, train_sat: 0.9818, test_sat: 0.9797, train_accuracy: 0.0209, test_accuracy: 0.0228\n",
      "Epoch 1200, train_sat: 0.9829, test_sat: 0.9807, train_accuracy: 0.0199, test_accuracy: 0.0228\n",
      "Epoch 1400, train_sat: 0.9846, test_sat: 0.9819, train_accuracy: 0.0172, test_accuracy: 0.0225\n",
      "Epoch 1600, train_sat: 0.9856, test_sat: 0.9818, train_accuracy: 0.0163, test_accuracy: 0.0207\n",
      "Epoch 1800, train_sat: 0.9868, test_sat: 0.9842, train_accuracy: 0.0147, test_accuracy: 0.0193\n",
      "Epoch 2000, train_sat: 0.9875, test_sat: 0.9843, train_accuracy: 0.0136, test_accuracy: 0.0200\n",
      "Epoch 2200, train_sat: 0.9874, test_sat: 0.9832, train_accuracy: 0.0135, test_accuracy: 0.0219\n",
      "Epoch 2400, train_sat: 0.9878, test_sat: 0.9842, train_accuracy: 0.0137, test_accuracy: 0.0176\n",
      "Epoch 2600, train_sat: 0.9878, test_sat: 0.9842, train_accuracy: 0.0136, test_accuracy: 0.0213\n",
      "Epoch 2800, train_sat: 0.9882, test_sat: 0.9847, train_accuracy: 0.0132, test_accuracy: 0.0168\n",
      "Epoch 3000, train_sat: 0.9887, test_sat: 0.9850, train_accuracy: 0.0126, test_accuracy: 0.0201\n",
      "Epoch 3200, train_sat: 0.9880, test_sat: 0.9861, train_accuracy: 0.0138, test_accuracy: 0.0192\n",
      "Epoch 3400, train_sat: 0.9893, test_sat: 0.9872, train_accuracy: 0.0127, test_accuracy: 0.0157\n",
      "Epoch 3600, train_sat: 0.9899, test_sat: 0.9859, train_accuracy: 0.0110, test_accuracy: 0.0160\n",
      "Epoch 3800, train_sat: 0.9896, test_sat: 0.9862, train_accuracy: 0.0110, test_accuracy: 0.0157\n",
      "Epoch 4000, train_sat: 0.9902, test_sat: 0.9885, train_accuracy: 0.0107, test_accuracy: 0.0134\n",
      "Epoch 4200, train_sat: 0.9899, test_sat: 0.9873, train_accuracy: 0.0110, test_accuracy: 0.0167\n",
      "Epoch 4400, train_sat: 0.9895, test_sat: 0.9881, train_accuracy: 0.0123, test_accuracy: 0.0158\n",
      "Epoch 4600, train_sat: 0.9900, test_sat: 0.9885, train_accuracy: 0.0121, test_accuracy: 0.0147\n",
      "Epoch 4800, train_sat: 0.9907, test_sat: 0.9879, train_accuracy: 0.0099, test_accuracy: 0.0158\n"
     ]
    }
   ],
   "source": [
    "EPOCHS = 5000\n",
    "\n",
    "modelul2 = train(\n",
    "    EPOCHS,\n",
    "    metrics_dict,\n",
    "    ds_train_2,\n",
    "    ds_test_2,\n",
    "    train_step,\n",
    "    test_step,\n",
    "    csv_path=\"regression_results_kfold2_2_mk.csv\",\n",
    "    track_metrics=200\n",
    ")"
   ]
  },
  {
   "cell_type": "code",
   "execution_count": 36,
   "id": "1acda274-adbb-4557-9beb-e51aba177b8c",
   "metadata": {},
   "outputs": [
    {
     "name": "stderr",
     "output_type": "stream",
     "text": [
      "/Users/eduard.hogea/miniforge3/envs/tensorflow/lib/python3.9/site-packages/seaborn/_decorators.py:36: FutureWarning: Pass the following variables as keyword args: x, y. From version 0.12, the only valid positional argument will be `data`, and passing other arguments without an explicit keyword will result in an error or misinterpretation.\n",
      "  warnings.warn(\n",
      "/Users/eduard.hogea/miniforge3/envs/tensorflow/lib/python3.9/site-packages/seaborn/_decorators.py:36: FutureWarning: Pass the following variables as keyword args: x, y. From version 0.12, the only valid positional argument will be `data`, and passing other arguments without an explicit keyword will result in an error or misinterpretation.\n",
      "  warnings.warn(\n"
     ]
    },
    {
     "data": {
      "image/png": "[encoded data removed]",
      "text/plain": [
       "<Figure size 864x432 with 2 Axes>"
      ]
     },
     "metadata": {},
     "output_type": "display_data"
    }
   ],
   "source": [
    "fig, axs = plt.subplots(1,2,figsize=(12,6))\n",
    "ax = axs[0]\n",
    "data = {'y_pred':[],'y_true':[]}\n",
    "for x,y in ds_train_2:\n",
    "    data['y_pred'].extend(f.model(x)[:,2].numpy())\n",
    "    data['y_true'].extend(y[:,2].numpy())\n",
    "df = pd.DataFrame(data,columns=['y_pred','y_true'])\n",
    "ax.set_xlim(0,80)\n",
    "ax.set_ylim(0,80)\n",
    "sns.regplot(\"y_true\",\"y_pred\",data=df,ax=ax,truncate=False,\n",
    "            scatter_kws={'alpha':0.5},line_kws={'color':'r','alpha':0.3,'linestyle':'--','linewidth':2})\n",
    "ax.plot([0,100],[0,100],color=\"gray\",linestyle=\"--\")\n",
    "ax.set_xlabel(\"Actual y values\")\n",
    "ax.set_ylabel(\"Fitted y values\")\n",
    "ax.set_title(\"Training Data\")\n",
    "\n",
    "ax = axs[1]\n",
    "data = {'y_pred':[],'y_true':[]}\n",
    "for x,y in ds_test_2:\n",
    "    data['y_pred'].extend(f.model(x)[:,2].numpy())\n",
    "    data['y_true'].extend(y[:,2].numpy())\n",
    "df = pd.DataFrame(data,columns=['y_pred','y_true'])\n",
    "ax.set_ylim(0,80)\n",
    "ax.set_xlim(0,80)\n",
    "sns.regplot(\"y_true\",\"y_pred\",data=df,ax=ax,truncate=False,\n",
    "            scatter_kws={'alpha':0.5},line_kws={'color':'r','alpha':0.3,'linestyle':'--','linewidth':2})\n",
    "ax.plot([0,100],[0,100],color=\"gray\",linestyle=\"--\")\n",
    "ax.set_xlabel(\"Actual y values\")\n",
    "ax.set_ylabel(\"Fitted y values\")\n",
    "ax.set_title(\"Test Data\")\n",
    "plt.tight_layout()\n",
    "plt.savefig(\"LTN_regresie_kfold2_2_mk.png\")"
   ]
  },
  {
   "cell_type": "code",
   "execution_count": 37,
   "id": "2234560e-d9a7-4fb1-888c-c34c9ecccc56",
   "metadata": {},
   "outputs": [
    {
     "data": {
      "image/png": "[encoded data removed]",
      "text/plain": [
       "<Figure size 720x720 with 1 Axes>"
      ]
     },
     "metadata": {},
     "output_type": "display_data"
    }
   ],
   "source": [
    "plt.figure(figsize=(10,10))\n",
    "plt.scatter(df['y_true'], df['y_pred'], c='crimson')\n",
    "plt.yscale('log')\n",
    "plt.xscale('log')\n",
    "\n",
    "p1 = max(max(df['y_pred']), max(df['y_true']))\n",
    "p2 = min(min(df['y_pred']), min(df['y_true']))\n",
    "plt.plot([p1, p2], [p1, p2], 'b-')\n",
    "plt.xlabel('True Values', fontsize=15)\n",
    "plt.ylabel('Predictions', fontsize=15)\n",
    "plt.axis('equal')\n",
    "plt.savefig(\"LTN_regresie_kfold2_3_mk.png\")\n",
    "plt.show()"
   ]
  },
  {
   "cell_type": "code",
   "execution_count": 38,
   "id": "4f860575-5ef7-497d-937e-edb82ee067f5",
   "metadata": {},
   "outputs": [],
   "source": [
    "df = pd.read_csv(\"/Users/eduard.hogea/Documents/Facultate/Internship/explorare/KNN99---LTN/datesets/Cantilever/date_test_corectate.csv\", on_bad_lines='skip')\n",
    "df = df.sample(frac=1) #shuffle\n",
    "x = df[['Mod 1', 'Mod 2','Mod 3','Mod 4','Mod 5','Mod 6','Mod 7','Mod 8']]\n",
    "y = df[['Severitate def', 'Severitate inc.','Pozitie']]\n",
    "batch_size= 32\n",
    "ds_test = tf.data.Dataset.from_tensor_slices((x,y)).batch(batch_size)\n",
    "\n",
    "data = {'y_pred':[],'y_true':[],'def':[],'inc':[],'Mod 1':[],'Mod 2':[],'Mod 3':[],'Mod 4':[],'Mod 5':[],'Mod 6':[],'Mod 7':[],'Mod 8':[]}\n",
    "for x,y in ds_test:\n",
    "    data['y_pred'].extend(f.model(x)[:,2].numpy())\n",
    "    data['y_true'].extend(y[:,2].numpy())\n",
    "    data['def'].extend(y[:,0].numpy())\n",
    "    data['inc'].extend(y[:,1].numpy())\n",
    "    data['Mod 1'].extend(x[:,0].numpy())\n",
    "    data['Mod 2'].extend(x[:,1].numpy())\n",
    "    data['Mod 3'].extend(x[:,2].numpy())\n",
    "    data['Mod 4'].extend(x[:,3].numpy())\n",
    "    data['Mod 5'].extend(x[:,4].numpy())\n",
    "    data['Mod 6'].extend(x[:,5].numpy())\n",
    "    data['Mod 7'].extend(x[:,6].numpy())\n",
    "    data['Mod 8'].extend(x[:,7].numpy())\n",
    "#'Severitate def', 'Severitate inc.'"
   ]
  },
  {
   "cell_type": "code",
   "execution_count": 39,
   "id": "edf1c768-6e8d-4be5-ad58-86da5391f97a",
   "metadata": {},
   "outputs": [],
   "source": [
    "data_plot = pd.DataFrame(data,columns=['y_pred','y_true','def','inc','Mod 1', 'Mod 2','Mod 3','Mod 4','Mod 5','Mod 6','Mod 7','Mod 8'])"
   ]
  },
  {
   "cell_type": "code",
   "execution_count": 40,
   "id": "55c6ac1d-e158-4465-965e-724bd4dbab63",
   "metadata": {},
   "outputs": [],
   "source": [
    "dif =data_plot[\"y_true\"] - data_plot[\"y_pred\"]"
   ]
  },
  {
   "cell_type": "code",
   "execution_count": 41,
   "id": "b7c0d450-243a-4b8a-90a2-289097eefb57",
   "metadata": {},
   "outputs": [
    {
     "data": {
      "image/png": "[encoded data removed]",
      "text/plain": [
       "<Figure size 842.4x595.44 with 1 Axes>"
      ]
     },
     "metadata": {},
     "output_type": "display_data"
    }
   ],
   "source": [
    "plt.stem(dif)\n",
    "plt.xlabel(\"Predicted values\", size = \"20\")\n",
    "plt.ylabel(\"Residuals\", size = \"20\")\n",
    "plt.savefig(\"residuals_kfold2_2_mk.png\")"
   ]
  },
  {
   "cell_type": "code",
   "execution_count": 42,
   "id": "de07741d-32e8-45dc-be68-cdad8ec1f0dc",
   "metadata": {},
   "outputs": [
    {
     "name": "stdout",
     "output_type": "stream",
     "text": [
      "Requirement already satisfied: openpyxl in /Users/eduard.hogea/miniforge3/envs/tensorflow/lib/python3.9/site-packages (3.0.10)\n",
      "Requirement already satisfied: et-xmlfile in /Users/eduard.hogea/miniforge3/envs/tensorflow/lib/python3.9/site-packages (from openpyxl) (1.1.0)\n"
     ]
    }
   ],
   "source": [
    "from openpyxl import Workbook\n",
    "!pip install openpyxl\n",
    "data_plot.to_excel(\"output_kfold2_2_mk.xlsx\")"
   ]
  },
  {
   "cell_type": "code",
   "execution_count": null,
   "id": "303a93f3-2093-4fd3-b535-57706af75f7f",
   "metadata": {},
   "outputs": [],
   "source": []
  }
 ],
 "metadata": {
  "kernelspec": {
   "display_name": "Python 3 (ipykernel)",
   "language": "python",
   "name": "python3"
  },
  "language_info": {
   "codemirror_mode": {
    "name": "ipython",
    "version": 3
   },
   "file_extension": ".py",
   "mimetype": "text/x-python",
   "name": "python",
   "nbconvert_exporter": "python",
   "pygments_lexer": "ipython3",
   "version": "3.9.7"
  }
 },
 "nbformat": 4,
 "nbformat_minor": 5
}
